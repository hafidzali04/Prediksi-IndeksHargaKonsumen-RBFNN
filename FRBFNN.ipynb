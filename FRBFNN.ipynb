{
  "cells": [
    {
      "cell_type": "markdown",
      "source": [
        "# Import Libraries and Dataset"
      ],
      "metadata": {
        "id": "etQaXFzHlLEL"
      }
    },
    {
      "cell_type": "code",
      "source": [
        "!pip install fuzzy-c-means"
      ],
      "metadata": {
        "colab": {
          "base_uri": "https://localhost:8080/",
          "height": 502
        },
        "id": "awTvT8FGlN6D",
        "outputId": "501da4ba-5a71-4e9e-f2ab-0829fcc48e25"
      },
      "execution_count": null,
      "outputs": [
        {
          "output_type": "stream",
          "name": "stdout",
          "text": [
            "Collecting fuzzy-c-means\n",
            "  Downloading fuzzy_c_means-1.6.3-py3-none-any.whl (9.1 kB)\n",
            "Collecting pydantic<2.0.0,>=1.8.2\n",
            "  Downloading pydantic-1.9.0-cp37-cp37m-manylinux_2_17_x86_64.manylinux2014_x86_64.whl (10.9 MB)\n",
            "\u001b[K     |████████████████████████████████| 10.9 MB 7.6 MB/s \n",
            "\u001b[?25hCollecting numpy<2.0.0,>=1.21.1\n",
            "  Downloading numpy-1.21.5-cp37-cp37m-manylinux_2_12_x86_64.manylinux2010_x86_64.whl (15.7 MB)\n",
            "\u001b[K     |████████████████████████████████| 15.7 MB 35.6 MB/s \n",
            "\u001b[?25hRequirement already satisfied: tabulate<0.9.0,>=0.8.9 in /usr/local/lib/python3.7/dist-packages (from fuzzy-c-means) (0.8.9)\n",
            "Collecting typer<0.4.0,>=0.3.2\n",
            "  Downloading typer-0.3.2-py3-none-any.whl (21 kB)\n",
            "Requirement already satisfied: typing-extensions>=3.7.4.3 in /usr/local/lib/python3.7/dist-packages (from pydantic<2.0.0,>=1.8.2->fuzzy-c-means) (3.10.0.2)\n",
            "Requirement already satisfied: click<7.2.0,>=7.1.1 in /usr/local/lib/python3.7/dist-packages (from typer<0.4.0,>=0.3.2->fuzzy-c-means) (7.1.2)\n",
            "Installing collected packages: typer, pydantic, numpy, fuzzy-c-means\n",
            "  Attempting uninstall: numpy\n",
            "    Found existing installation: numpy 1.19.5\n",
            "    Uninstalling numpy-1.19.5:\n",
            "      Successfully uninstalled numpy-1.19.5\n",
            "\u001b[31mERROR: pip's dependency resolver does not currently take into account all the packages that are installed. This behaviour is the source of the following dependency conflicts.\n",
            "yellowbrick 1.3.post1 requires numpy<1.20,>=1.16.0, but you have numpy 1.21.5 which is incompatible.\n",
            "datascience 0.10.6 requires folium==0.2.1, but you have folium 0.8.3 which is incompatible.\n",
            "albumentations 0.1.12 requires imgaug<0.2.7,>=0.2.5, but you have imgaug 0.2.9 which is incompatible.\u001b[0m\n",
            "Successfully installed fuzzy-c-means-1.6.3 numpy-1.21.5 pydantic-1.9.0 typer-0.3.2\n"
          ]
        },
        {
          "output_type": "display_data",
          "data": {
            "application/vnd.colab-display-data+json": {
              "pip_warning": {
                "packages": [
                  "numpy"
                ]
              }
            }
          },
          "metadata": {}
        }
      ]
    },
    {
      "cell_type": "code",
      "execution_count": null,
      "metadata": {
        "id": "yKy1wZT2JV9k"
      },
      "outputs": [],
      "source": [
        "import numpy as np\n",
        "import pandas as pd\n",
        "\n",
        "from fcmeans import FCM\n",
        "import pylab\n",
        "import time\n",
        "%matplotlib inline\n",
        "from sklearn.preprocessing import  MinMaxScaler\n",
        "from sklearn.metrics import mean_squared_error"
      ]
    },
    {
      "cell_type": "code",
      "source": [
        "#Read Dataset\n",
        "df = pd.read_csv('https://raw.githubusercontent.com/hafidzali04/Hacktiv8-phase0/main/data/data_ihk.csv')\n",
        "df.head()"
      ],
      "metadata": {
        "colab": {
          "base_uri": "https://localhost:8080/",
          "height": 206
        },
        "id": "Ngo-FsDrJ5Wr",
        "outputId": "01996aff-b4fe-4283-b7c5-187b9cbd1eec"
      },
      "execution_count": null,
      "outputs": [
        {
          "output_type": "execute_result",
          "data": {
            "text/html": [
              "\n",
              "  <div id=\"df-11d54860-500a-489a-a669-73fcaed456aa\">\n",
              "    <div class=\"colab-df-container\">\n",
              "      <div>\n",
              "<style scoped>\n",
              "    .dataframe tbody tr th:only-of-type {\n",
              "        vertical-align: middle;\n",
              "    }\n",
              "\n",
              "    .dataframe tbody tr th {\n",
              "        vertical-align: top;\n",
              "    }\n",
              "\n",
              "    .dataframe thead th {\n",
              "        text-align: right;\n",
              "    }\n",
              "</style>\n",
              "<table border=\"1\" class=\"dataframe\">\n",
              "  <thead>\n",
              "    <tr style=\"text-align: right;\">\n",
              "      <th></th>\n",
              "      <th>Date</th>\n",
              "      <th>IHK</th>\n",
              "    </tr>\n",
              "  </thead>\n",
              "  <tbody>\n",
              "    <tr>\n",
              "      <th>0</th>\n",
              "      <td>2016-Jan</td>\n",
              "      <td>130.23</td>\n",
              "    </tr>\n",
              "    <tr>\n",
              "      <th>1</th>\n",
              "      <td>2016-Feb</td>\n",
              "      <td>130.66</td>\n",
              "    </tr>\n",
              "    <tr>\n",
              "      <th>2</th>\n",
              "      <td>2016-Mar</td>\n",
              "      <td>130.56</td>\n",
              "    </tr>\n",
              "    <tr>\n",
              "      <th>3</th>\n",
              "      <td>2016-Apr</td>\n",
              "      <td>129.89</td>\n",
              "    </tr>\n",
              "    <tr>\n",
              "      <th>4</th>\n",
              "      <td>2016-Mei</td>\n",
              "      <td>132.06</td>\n",
              "    </tr>\n",
              "  </tbody>\n",
              "</table>\n",
              "</div>\n",
              "      <button class=\"colab-df-convert\" onclick=\"convertToInteractive('df-11d54860-500a-489a-a669-73fcaed456aa')\"\n",
              "              title=\"Convert this dataframe to an interactive table.\"\n",
              "              style=\"display:none;\">\n",
              "        \n",
              "  <svg xmlns=\"http://www.w3.org/2000/svg\" height=\"24px\"viewBox=\"0 0 24 24\"\n",
              "       width=\"24px\">\n",
              "    <path d=\"M0 0h24v24H0V0z\" fill=\"none\"/>\n",
              "    <path d=\"M18.56 5.44l.94 2.06.94-2.06 2.06-.94-2.06-.94-.94-2.06-.94 2.06-2.06.94zm-11 1L8.5 8.5l.94-2.06 2.06-.94-2.06-.94L8.5 2.5l-.94 2.06-2.06.94zm10 10l.94 2.06.94-2.06 2.06-.94-2.06-.94-.94-2.06-.94 2.06-2.06.94z\"/><path d=\"M17.41 7.96l-1.37-1.37c-.4-.4-.92-.59-1.43-.59-.52 0-1.04.2-1.43.59L10.3 9.45l-7.72 7.72c-.78.78-.78 2.05 0 2.83L4 21.41c.39.39.9.59 1.41.59.51 0 1.02-.2 1.41-.59l7.78-7.78 2.81-2.81c.8-.78.8-2.07 0-2.86zM5.41 20L4 18.59l7.72-7.72 1.47 1.35L5.41 20z\"/>\n",
              "  </svg>\n",
              "      </button>\n",
              "      \n",
              "  <style>\n",
              "    .colab-df-container {\n",
              "      display:flex;\n",
              "      flex-wrap:wrap;\n",
              "      gap: 12px;\n",
              "    }\n",
              "\n",
              "    .colab-df-convert {\n",
              "      background-color: #E8F0FE;\n",
              "      border: none;\n",
              "      border-radius: 50%;\n",
              "      cursor: pointer;\n",
              "      display: none;\n",
              "      fill: #1967D2;\n",
              "      height: 32px;\n",
              "      padding: 0 0 0 0;\n",
              "      width: 32px;\n",
              "    }\n",
              "\n",
              "    .colab-df-convert:hover {\n",
              "      background-color: #E2EBFA;\n",
              "      box-shadow: 0px 1px 2px rgba(60, 64, 67, 0.3), 0px 1px 3px 1px rgba(60, 64, 67, 0.15);\n",
              "      fill: #174EA6;\n",
              "    }\n",
              "\n",
              "    [theme=dark] .colab-df-convert {\n",
              "      background-color: #3B4455;\n",
              "      fill: #D2E3FC;\n",
              "    }\n",
              "\n",
              "    [theme=dark] .colab-df-convert:hover {\n",
              "      background-color: #434B5C;\n",
              "      box-shadow: 0px 1px 3px 1px rgba(0, 0, 0, 0.15);\n",
              "      filter: drop-shadow(0px 1px 2px rgba(0, 0, 0, 0.3));\n",
              "      fill: #FFFFFF;\n",
              "    }\n",
              "  </style>\n",
              "\n",
              "      <script>\n",
              "        const buttonEl =\n",
              "          document.querySelector('#df-11d54860-500a-489a-a669-73fcaed456aa button.colab-df-convert');\n",
              "        buttonEl.style.display =\n",
              "          google.colab.kernel.accessAllowed ? 'block' : 'none';\n",
              "\n",
              "        async function convertToInteractive(key) {\n",
              "          const element = document.querySelector('#df-11d54860-500a-489a-a669-73fcaed456aa');\n",
              "          const dataTable =\n",
              "            await google.colab.kernel.invokeFunction('convertToInteractive',\n",
              "                                                     [key], {});\n",
              "          if (!dataTable) return;\n",
              "\n",
              "          const docLinkHtml = 'Like what you see? Visit the ' +\n",
              "            '<a target=\"_blank\" href=https://colab.research.google.com/notebooks/data_table.ipynb>data table notebook</a>'\n",
              "            + ' to learn more about interactive tables.';\n",
              "          element.innerHTML = '';\n",
              "          dataTable['output_type'] = 'display_data';\n",
              "          await google.colab.output.renderOutput(dataTable, element);\n",
              "          const docLink = document.createElement('div');\n",
              "          docLink.innerHTML = docLinkHtml;\n",
              "          element.appendChild(docLink);\n",
              "        }\n",
              "      </script>\n",
              "    </div>\n",
              "  </div>\n",
              "  "
            ],
            "text/plain": [
              "       Date     IHK\n",
              "0  2016-Jan  130.23\n",
              "1  2016-Feb  130.66\n",
              "2  2016-Mar  130.56\n",
              "3  2016-Apr  129.89\n",
              "4  2016-Mei  132.06"
            ]
          },
          "metadata": {},
          "execution_count": 2
        }
      ]
    },
    {
      "cell_type": "code",
      "source": [
        "df.shape #Melihat bentuk data"
      ],
      "metadata": {
        "colab": {
          "base_uri": "https://localhost:8080/"
        },
        "id": "84Lrr422Nlo8",
        "outputId": "bf6d5d25-4a7f-42e3-9646-ea8937ec6026"
      },
      "execution_count": null,
      "outputs": [
        {
          "output_type": "execute_result",
          "data": {
            "text/plain": [
              "(71, 2)"
            ]
          },
          "metadata": {},
          "execution_count": 3
        }
      ]
    },
    {
      "cell_type": "code",
      "source": [
        "df.set_index('Date',inplace=True) #Menjadikan kolom Date sebagai index"
      ],
      "metadata": {
        "id": "So7lGyTYPecV"
      },
      "execution_count": null,
      "outputs": []
    },
    {
      "cell_type": "code",
      "source": [
        "pylab.rcParams['figure.figsize'] = (25, 8)\n",
        "df.plot(kind='line', title='IHK UMUM KOTA PONTIANAK TAHUN 2016 - 2021')"
      ],
      "metadata": {
        "colab": {
          "base_uri": "https://localhost:8080/",
          "height": 530
        },
        "id": "PmpqQ8XxPT6s",
        "outputId": "e8b71b9a-c21c-4a74-b932-4e0b5b264c52"
      },
      "execution_count": null,
      "outputs": [
        {
          "output_type": "execute_result",
          "data": {
            "text/plain": [
              "<matplotlib.axes._subplots.AxesSubplot at 0x7f48c2f97110>"
            ]
          },
          "metadata": {},
          "execution_count": 7
        },
        {
          "output_type": "display_data",
          "data": {
            "image/png": "[encoded data removed]",
            "text/plain": [
              "<Figure size 1800x576 with 1 Axes>"
            ]
          },
          "metadata": {
            "needs_background": "light"
          }
        }
      ]
    },
    {
      "cell_type": "markdown",
      "source": [
        "* Bisa Terlihat bahwa IHK tahun 2019 ke 2020 terjadi penurunan IHK yang signifikan karena ada nya Covid"
      ],
      "metadata": {
        "id": "g_xkqJtKRYli"
      }
    },
    {
      "cell_type": "markdown",
      "source": [
        "#SPLIT DATASET"
      ],
      "metadata": {
        "id": "1I5lFONhbA75"
      }
    },
    {
      "cell_type": "code",
      "source": [
        "window=3 #Mengatur inputan data, per 3 bulan\n",
        "X=[]\n",
        "y=[]\n",
        "for i in range(window,len(df)):\n",
        "    X.append(df.IHK.iloc[i-window:i].values)\n",
        "    y.append(df.IHK.iloc[i])\n",
        "X=np.array(X)\n",
        "y=np.array(y)"
      ],
      "metadata": {
        "id": "txcwR8wzQ2zg"
      },
      "execution_count": null,
      "outputs": []
    },
    {
      "cell_type": "code",
      "source": [
        "#Normalisasi Data Menggunakan MinMax\n",
        "minmax=MinMaxScaler().fit(X)\n",
        "X_scaled=minmax.transform(X)\n",
        "\n",
        "#Mengambil 80% data untuk dijadikan data Train dan 20% dijadikan data Test\n",
        "train_size=0.8 \n",
        "train_idx=int(train_size*len(X_scaled))\n",
        "\n",
        "X_train=X_scaled[:train_idx]\n",
        "X_test=X_scaled[train_idx:]\n",
        "\n",
        "y_train=y[:train_idx]\n",
        "y_test=y[train_idx:]"
      ],
      "metadata": {
        "id": "luf8pmTqSC3m"
      },
      "execution_count": null,
      "outputs": []
    },
    {
      "cell_type": "code",
      "source": [
        "# Melihat hasil splitting data\n",
        "\n",
        "print('Presentase data yang digunakan untuk training data  :', '%.2f' % ((len(X_train)/len(X))*100), '%')\n",
        "print('Presentase data yang digunakan untuk test data      :', '%.2f' % ((len(X_test)/len(X))*100), '%')\n",
        "print()\n",
        "\n",
        "print('Jumlah data training  :', X_train.shape[0])\n",
        "print('Jumlah data test      :', X_test.shape[0])"
      ],
      "metadata": {
        "colab": {
          "base_uri": "https://localhost:8080/"
        },
        "id": "K7EXn172Ooqo",
        "outputId": "d605c3cf-ae8b-427d-e2dd-095996329350"
      },
      "execution_count": null,
      "outputs": [
        {
          "output_type": "stream",
          "name": "stdout",
          "text": [
            "Presentase data yang digunakan untuk training data  : 79.41 %\n",
            "Presentase data yang digunakan untuk test data      : 20.59 %\n",
            "\n",
            "Jumlah data training  : 54\n",
            "Jumlah data test      : 14\n"
          ]
        }
      ]
    },
    {
      "cell_type": "markdown",
      "metadata": {
        "id": "LvxutCoQJV9u"
      },
      "source": [
        "# Design of FRBF Network\n",
        "Since we need to train our FRBF network on different parameters, let us define one class that can be reused for all our requirements"
      ]
    },
    {
      "cell_type": "code",
      "source": [
        "#Mencari Nilai tengah menggunakan Fuzzy C Means\n",
        "#n_cluster menyesuaikan jumlah data train, semakin mendekati semakin bagus\n",
        "#n_cluster !=data train\n",
        "fcm = FCM(n_clusters=50, max_iter=100) \n",
        "fcm.fit(X_train)\n",
        "fcm_centers = fcm.centers\n",
        "print(fcm_centers.shape)"
      ],
      "metadata": {
        "colab": {
          "base_uri": "https://localhost:8080/"
        },
        "id": "n3ldwbn4lrdQ",
        "outputId": "bfb41191-314c-40c7-e61a-58c8649907d3"
      },
      "execution_count": null,
      "outputs": [
        {
          "output_type": "stream",
          "name": "stdout",
          "text": [
            "(50, 3)\n"
          ]
        }
      ]
    },
    {
      "cell_type": "code",
      "execution_count": null,
      "metadata": {
        "id": "yznXThH8JV9u"
      },
      "outputs": [],
      "source": [
        "# RBF kernel function for the hidden nodes\n",
        "def rbf(x, c, s):\n",
        "    return np.exp( (np.linalg.norm(x-c)**2) * -1 / (2*s**2))"
      ]
    },
    {
      "cell_type": "code",
      "execution_count": null,
      "metadata": {
        "id": "5JOGyuODJV9u"
      },
      "outputs": [],
      "source": [
        "class RBFN:\n",
        "    #RBF Network Class\n",
        "    def __init__(self, num_centres, lr=0.1, epochs=2200):\n",
        "        \"\"\"Initialization of hyperparameters\"\"\"\n",
        "        self.lr = lr #learning rate\n",
        "        self.epochs = epochs #number of epochs for training\n",
        "        #randomly initialise weights\n",
        "        self.w = np.random.randn(num_centres)\n",
        "             \n",
        "    def fit(self, train_ip, train_op, centres, std_dev):\n",
        "        \"\"\"Training phase\"\"\"\n",
        "        self.hnodes = centres.shape[0]\n",
        "        self.mse = []\n",
        "        self.centres = centres\n",
        "        self.stds = std_dev\n",
        "        \n",
        "        \n",
        "        \n",
        "        for epoch in range(self.epochs):\n",
        "            #print(\"epoch: \",epoch+1,\"/\",self.epochs,\"\")\n",
        "            calc_op = []\n",
        "            \n",
        "            for i in range(train_ip.shape[0]):\n",
        "                \n",
        "                \n",
        "                a = np.array( [ rbf(train_ip[i], c, s) for c, s, in zip(centres, std_dev) ] )\n",
        "                F = a.T.dot(self.w)\n",
        "                calc_op.append(F)\n",
        " \n",
        "                error = train_op[i] - F\n",
        "                self.w = self.w + (self.lr * a * error)\n",
        "            \n",
        "            calc_op = np.array(calc_op)\n",
        "            mse = np.square(y_train - calc_op).mean()\n",
        "            #print(\"Training Mean Squared Error: \",mse)\n",
        "            self.mse.append(mse)\n",
        "            \n",
        "        \n",
        "    def predict(self, test_ip):\n",
        "        \"\"\"Prediction of unseen data\"\"\"\n",
        "        test_op = []\n",
        "        for i in range(test_ip.shape[0]):\n",
        "            a = np.array( [ rbf(test_ip[i], c, s) for c, s, in zip(self.centres, self.stds) ] )\n",
        "            F = a.T.dot(self.w)\n",
        "            test_op.append(F)\n",
        "            \n",
        "        return np.array(test_op)"
      ]
    },
    {
      "cell_type": "markdown",
      "source": [
        "#Training"
      ],
      "metadata": {
        "id": "AdsRV2jYrIzu"
      }
    },
    {
      "cell_type": "code",
      "source": [
        "#Mendefinisikan model Menggunakan RBFNN saja\n",
        "rbfnn = RBFN(num_centres=X_train.shape[0])\n",
        "%time rbfnn.fit(X_train, y_train, centres=X_train, std_dev=np.repeat(0.2,X_train.shape[0]))"
      ],
      "metadata": {
        "colab": {
          "base_uri": "https://localhost:8080/"
        },
        "id": "hCcIaIoVsiQ6",
        "outputId": "452c03cc-59c5-40cd-a285-18bb12a50db4"
      },
      "execution_count": null,
      "outputs": [
        {
          "output_type": "stream",
          "name": "stdout",
          "text": [
            "CPU times: user 1min 8s, sys: 6.75 s, total: 1min 14s\n",
            "Wall time: 1min 7s\n"
          ]
        }
      ]
    },
    {
      "cell_type": "code",
      "source": [
        "#Mendefinisikan model Menggunakan FuzzyRBFNN\n",
        "frbfnn = RBFN(num_centres=fcm_centers.shape[0])\n",
        "%time frbfnn.fit(train_ip=X_train, train_op=y_train, centres=fcm_centers, std_dev=np.repeat(0.2,km_centres.shape[0]))"
      ],
      "metadata": {
        "colab": {
          "base_uri": "https://localhost:8080/"
        },
        "id": "tYURVk6loVSr",
        "outputId": "0e42566a-05b2-46a2-da3f-bf262b0c3202"
      },
      "execution_count": null,
      "outputs": [
        {
          "output_type": "stream",
          "name": "stdout",
          "text": [
            "CPU times: user 1min 2s, sys: 5.8 s, total: 1min 8s\n",
            "Wall time: 1min 1s\n"
          ]
        }
      ]
    },
    {
      "cell_type": "code",
      "source": [
        "# Get the models forecast\n",
        "train_rbfnn = rbfnn.predict(X_train)\n",
        "train_frbfnn = frbfnn.predict(X_train)\n",
        "\n",
        "#Evaluasi Training Model RBFNN\n",
        "print('----Evaluasi Training Model RBFNN----')\n",
        "mse = mean_squared_error(y_train,train_rbfnn)/100\n",
        "print('MSE =', \"{:.3f}\".format(mse))\n",
        "# MAPE\n",
        "mape = np.mean(np.abs((y_train - train_rbfnn) / y_train))*100\n",
        "print('MAPE =', \"{:.2f}%\".format(mape))\n",
        "\n",
        "\n",
        "#Evaluasi Training Model FRBFNN\n",
        "print('\\n\\n----Evaluasi Training Model FuzzyRBF----')\n",
        "# MSE\n",
        "mse = mean_squared_error(y_train,train_frbfnn)/100\n",
        "print('MSE =', \"{:.3f}\".format(mse))\n",
        "\n",
        "# MAPE\n",
        "mape = np.mean(np.abs((y_train - train_frbfnn) / y_train))*100\n",
        "print('MAPE =', \"{:.2f}%\".format(mape))"
      ],
      "metadata": {
        "colab": {
          "base_uri": "https://localhost:8080/"
        },
        "id": "tqBVw_K2odAj",
        "outputId": "501cc9fc-539b-4b37-ac2a-10c54545b2f5"
      },
      "execution_count": null,
      "outputs": [
        {
          "output_type": "stream",
          "name": "stdout",
          "text": [
            "----Evaluasi Training Model RBFNN----\n",
            "MSE = 5.661\n",
            "MAPE = 12.80%\n",
            "\n",
            "\n",
            "----Evaluasi Training Model FuzzyRBF----\n",
            "MSE = 4.957\n",
            "MAPE = 11.97%\n"
          ]
        }
      ]
    },
    {
      "cell_type": "code",
      "source": [
        "hasil_train = pd.DataFrame({'Date':df.index[:train_idx],'actual':y_train, 'Train RBFNN':train_rbfnn,'Train FuzzyRBFNN':train_frbfnn})\n",
        "hasil_train.set_index('Date',inplace=True) \n",
        "hasil_train"
      ],
      "metadata": {
        "colab": {
          "base_uri": "https://localhost:8080/",
          "height": 1000
        },
        "id": "3fMOYlYMoo74",
        "outputId": "4ced22f2-9563-4e79-9392-8fa6428ab59c"
      },
      "execution_count": null,
      "outputs": [
        {
          "output_type": "execute_result",
          "data": {
            "text/html": [
              "\n",
              "  <div id=\"df-fee9758a-594e-45b3-8d84-8657ae6b4d31\">\n",
              "    <div class=\"colab-df-container\">\n",
              "      <div>\n",
              "<style scoped>\n",
              "    .dataframe tbody tr th:only-of-type {\n",
              "        vertical-align: middle;\n",
              "    }\n",
              "\n",
              "    .dataframe tbody tr th {\n",
              "        vertical-align: top;\n",
              "    }\n",
              "\n",
              "    .dataframe thead th {\n",
              "        text-align: right;\n",
              "    }\n",
              "</style>\n",
              "<table border=\"1\" class=\"dataframe\">\n",
              "  <thead>\n",
              "    <tr style=\"text-align: right;\">\n",
              "      <th></th>\n",
              "      <th>actual</th>\n",
              "      <th>Train RBFNN</th>\n",
              "      <th>Train FuzzyRBFNN</th>\n",
              "    </tr>\n",
              "    <tr>\n",
              "      <th>Date</th>\n",
              "      <th></th>\n",
              "      <th></th>\n",
              "      <th></th>\n",
              "    </tr>\n",
              "  </thead>\n",
              "  <tbody>\n",
              "    <tr>\n",
              "      <th>2016-Jan</th>\n",
              "      <td>129.89</td>\n",
              "      <td>119.080948</td>\n",
              "      <td>119.975215</td>\n",
              "    </tr>\n",
              "    <tr>\n",
              "      <th>2016-Feb</th>\n",
              "      <td>132.06</td>\n",
              "      <td>121.458796</td>\n",
              "      <td>121.856758</td>\n",
              "    </tr>\n",
              "    <tr>\n",
              "      <th>2016-Mar</th>\n",
              "      <td>133.66</td>\n",
              "      <td>121.455606</td>\n",
              "      <td>122.850899</td>\n",
              "    </tr>\n",
              "    <tr>\n",
              "      <th>2016-Apr</th>\n",
              "      <td>134.82</td>\n",
              "      <td>128.019396</td>\n",
              "      <td>129.162103</td>\n",
              "    </tr>\n",
              "    <tr>\n",
              "      <th>2016-Mei</th>\n",
              "      <td>135.37</td>\n",
              "      <td>159.935995</td>\n",
              "      <td>159.039799</td>\n",
              "    </tr>\n",
              "    <tr>\n",
              "      <th>2016-Jun</th>\n",
              "      <td>133.94</td>\n",
              "      <td>170.197164</td>\n",
              "      <td>168.456420</td>\n",
              "    </tr>\n",
              "    <tr>\n",
              "      <th>2016-Jul</th>\n",
              "      <td>133.46</td>\n",
              "      <td>180.920909</td>\n",
              "      <td>178.059624</td>\n",
              "    </tr>\n",
              "    <tr>\n",
              "      <th>2016-Aug</th>\n",
              "      <td>133.56</td>\n",
              "      <td>187.676329</td>\n",
              "      <td>184.466034</td>\n",
              "    </tr>\n",
              "    <tr>\n",
              "      <th>2016-Sep</th>\n",
              "      <td>134.80</td>\n",
              "      <td>180.960433</td>\n",
              "      <td>178.484869</td>\n",
              "    </tr>\n",
              "    <tr>\n",
              "      <th>2016-Okt</th>\n",
              "      <td>137.25</td>\n",
              "      <td>173.138691</td>\n",
              "      <td>171.435494</td>\n",
              "    </tr>\n",
              "    <tr>\n",
              "      <th>2016-Nov</th>\n",
              "      <td>137.74</td>\n",
              "      <td>155.069562</td>\n",
              "      <td>154.242902</td>\n",
              "    </tr>\n",
              "    <tr>\n",
              "      <th>2016-Dec</th>\n",
              "      <td>137.38</td>\n",
              "      <td>143.659400</td>\n",
              "      <td>143.032385</td>\n",
              "    </tr>\n",
              "    <tr>\n",
              "      <th>2017-Jan</th>\n",
              "      <td>137.77</td>\n",
              "      <td>143.578040</td>\n",
              "      <td>143.182583</td>\n",
              "    </tr>\n",
              "    <tr>\n",
              "      <th>2017-Feb</th>\n",
              "      <td>138.18</td>\n",
              "      <td>142.443995</td>\n",
              "      <td>142.210680</td>\n",
              "    </tr>\n",
              "    <tr>\n",
              "      <th>2017-Mar</th>\n",
              "      <td>139.95</td>\n",
              "      <td>137.837074</td>\n",
              "      <td>137.810067</td>\n",
              "    </tr>\n",
              "    <tr>\n",
              "      <th>2017-Apr</th>\n",
              "      <td>139.61</td>\n",
              "      <td>124.697045</td>\n",
              "      <td>125.277863</td>\n",
              "    </tr>\n",
              "    <tr>\n",
              "      <th>2017-Mei</th>\n",
              "      <td>139.80</td>\n",
              "      <td>118.245294</td>\n",
              "      <td>119.214947</td>\n",
              "    </tr>\n",
              "    <tr>\n",
              "      <th>2017-Jun</th>\n",
              "      <td>140.14</td>\n",
              "      <td>119.954733</td>\n",
              "      <td>121.204523</td>\n",
              "    </tr>\n",
              "    <tr>\n",
              "      <th>2017-Jul</th>\n",
              "      <td>139.66</td>\n",
              "      <td>119.449982</td>\n",
              "      <td>120.628830</td>\n",
              "    </tr>\n",
              "    <tr>\n",
              "      <th>2017-Aug</th>\n",
              "      <td>139.31</td>\n",
              "      <td>118.490116</td>\n",
              "      <td>119.811055</td>\n",
              "    </tr>\n",
              "    <tr>\n",
              "      <th>2017-Sep</th>\n",
              "      <td>140.00</td>\n",
              "      <td>119.692218</td>\n",
              "      <td>121.018781</td>\n",
              "    </tr>\n",
              "    <tr>\n",
              "      <th>2017-Okt</th>\n",
              "      <td>140.40</td>\n",
              "      <td>120.676875</td>\n",
              "      <td>121.805550</td>\n",
              "    </tr>\n",
              "    <tr>\n",
              "      <th>2017-Nov</th>\n",
              "      <td>140.77</td>\n",
              "      <td>118.725198</td>\n",
              "      <td>119.839089</td>\n",
              "    </tr>\n",
              "    <tr>\n",
              "      <th>2017-Dec</th>\n",
              "      <td>141.67</td>\n",
              "      <td>119.674922</td>\n",
              "      <td>120.835143</td>\n",
              "    </tr>\n",
              "    <tr>\n",
              "      <th>2018-Jan</th>\n",
              "      <td>141.89</td>\n",
              "      <td>123.316793</td>\n",
              "      <td>124.183172</td>\n",
              "    </tr>\n",
              "    <tr>\n",
              "      <th>2018-Feb</th>\n",
              "      <td>142.40</td>\n",
              "      <td>126.889516</td>\n",
              "      <td>127.640131</td>\n",
              "    </tr>\n",
              "    <tr>\n",
              "      <th>2018-Mar</th>\n",
              "      <td>144.45</td>\n",
              "      <td>133.979244</td>\n",
              "      <td>134.468417</td>\n",
              "    </tr>\n",
              "    <tr>\n",
              "      <th>2018-Apr</th>\n",
              "      <td>144.45</td>\n",
              "      <td>150.163547</td>\n",
              "      <td>149.158704</td>\n",
              "    </tr>\n",
              "    <tr>\n",
              "      <th>2018-Mei</th>\n",
              "      <td>144.15</td>\n",
              "      <td>158.840576</td>\n",
              "      <td>157.810858</td>\n",
              "    </tr>\n",
              "    <tr>\n",
              "      <th>2018-Jun</th>\n",
              "      <td>143.76</td>\n",
              "      <td>160.441891</td>\n",
              "      <td>160.122964</td>\n",
              "    </tr>\n",
              "    <tr>\n",
              "      <th>2018-Jul</th>\n",
              "      <td>143.34</td>\n",
              "      <td>157.148965</td>\n",
              "      <td>157.048319</td>\n",
              "    </tr>\n",
              "    <tr>\n",
              "      <th>2018-Aug</th>\n",
              "      <td>143.74</td>\n",
              "      <td>153.012983</td>\n",
              "      <td>153.093628</td>\n",
              "    </tr>\n",
              "    <tr>\n",
              "      <th>2018-Sep</th>\n",
              "      <td>145.58</td>\n",
              "      <td>154.820678</td>\n",
              "      <td>154.532575</td>\n",
              "    </tr>\n",
              "    <tr>\n",
              "      <th>2018-Okt</th>\n",
              "      <td>146.38</td>\n",
              "      <td>166.870786</td>\n",
              "      <td>165.227330</td>\n",
              "    </tr>\n",
              "    <tr>\n",
              "      <th>2018-Nov</th>\n",
              "      <td>147.15</td>\n",
              "      <td>171.079003</td>\n",
              "      <td>169.442595</td>\n",
              "    </tr>\n",
              "    <tr>\n",
              "      <th>2018-Dec</th>\n",
              "      <td>146.87</td>\n",
              "      <td>162.393563</td>\n",
              "      <td>161.886028</td>\n",
              "    </tr>\n",
              "    <tr>\n",
              "      <th>2019-Jan</th>\n",
              "      <td>147.18</td>\n",
              "      <td>151.539226</td>\n",
              "      <td>152.143184</td>\n",
              "    </tr>\n",
              "    <tr>\n",
              "      <th>2019-Feb</th>\n",
              "      <td>148.00</td>\n",
              "      <td>145.338736</td>\n",
              "      <td>146.332008</td>\n",
              "    </tr>\n",
              "    <tr>\n",
              "      <th>2019-Mar</th>\n",
              "      <td>148.97</td>\n",
              "      <td>142.919696</td>\n",
              "      <td>143.819290</td>\n",
              "    </tr>\n",
              "    <tr>\n",
              "      <th>2019-Apr</th>\n",
              "      <td>148.82</td>\n",
              "      <td>125.746237</td>\n",
              "      <td>127.551165</td>\n",
              "    </tr>\n",
              "    <tr>\n",
              "      <th>2019-Mei</th>\n",
              "      <td>148.30</td>\n",
              "      <td>104.976103</td>\n",
              "      <td>108.332189</td>\n",
              "    </tr>\n",
              "    <tr>\n",
              "      <th>2019-Jun</th>\n",
              "      <td>148.71</td>\n",
              "      <td>96.431747</td>\n",
              "      <td>100.488840</td>\n",
              "    </tr>\n",
              "    <tr>\n",
              "      <th>2019-Jul</th>\n",
              "      <td>148.93</td>\n",
              "      <td>101.860129</td>\n",
              "      <td>105.413924</td>\n",
              "    </tr>\n",
              "    <tr>\n",
              "      <th>2019-Aug</th>\n",
              "      <td>148.83</td>\n",
              "      <td>103.086165</td>\n",
              "      <td>106.524347</td>\n",
              "    </tr>\n",
              "    <tr>\n",
              "      <th>2019-Sep</th>\n",
              "      <td>149.42</td>\n",
              "      <td>95.268786</td>\n",
              "      <td>99.249596</td>\n",
              "    </tr>\n",
              "    <tr>\n",
              "      <th>2019-Okt</th>\n",
              "      <td>104.75</td>\n",
              "      <td>88.642429</td>\n",
              "      <td>92.814261</td>\n",
              "    </tr>\n",
              "    <tr>\n",
              "      <th>2019-Nov</th>\n",
              "      <td>105.41</td>\n",
              "      <td>105.408750</td>\n",
              "      <td>105.408824</td>\n",
              "    </tr>\n",
              "    <tr>\n",
              "      <th>2019-Dec</th>\n",
              "      <td>105.27</td>\n",
              "      <td>105.270295</td>\n",
              "      <td>105.270300</td>\n",
              "    </tr>\n",
              "    <tr>\n",
              "      <th>2020-Jan</th>\n",
              "      <td>105.19</td>\n",
              "      <td>105.467176</td>\n",
              "      <td>105.574147</td>\n",
              "    </tr>\n",
              "    <tr>\n",
              "      <th>2020-Feb</th>\n",
              "      <td>105.69</td>\n",
              "      <td>105.660895</td>\n",
              "      <td>105.713723</td>\n",
              "    </tr>\n",
              "    <tr>\n",
              "      <th>2020-Mar</th>\n",
              "      <td>106.04</td>\n",
              "      <td>105.695577</td>\n",
              "      <td>105.746911</td>\n",
              "    </tr>\n",
              "    <tr>\n",
              "      <th>2020-Apr</th>\n",
              "      <td>105.65</td>\n",
              "      <td>105.599367</td>\n",
              "      <td>105.643068</td>\n",
              "    </tr>\n",
              "    <tr>\n",
              "      <th>2020-Mei</th>\n",
              "      <td>105.49</td>\n",
              "      <td>105.560631</td>\n",
              "      <td>105.568524</td>\n",
              "    </tr>\n",
              "    <tr>\n",
              "      <th>2020-Jun</th>\n",
              "      <td>105.50</td>\n",
              "      <td>105.500377</td>\n",
              "      <td>105.485838</td>\n",
              "    </tr>\n",
              "  </tbody>\n",
              "</table>\n",
              "</div>\n",
              "      <button class=\"colab-df-convert\" onclick=\"convertToInteractive('df-fee9758a-594e-45b3-8d84-8657ae6b4d31')\"\n",
              "              title=\"Convert this dataframe to an interactive table.\"\n",
              "              style=\"display:none;\">\n",
              "        \n",
              "  <svg xmlns=\"http://www.w3.org/2000/svg\" height=\"24px\"viewBox=\"0 0 24 24\"\n",
              "       width=\"24px\">\n",
              "    <path d=\"M0 0h24v24H0V0z\" fill=\"none\"/>\n",
              "    <path d=\"M18.56 5.44l.94 2.06.94-2.06 2.06-.94-2.06-.94-.94-2.06-.94 2.06-2.06.94zm-11 1L8.5 8.5l.94-2.06 2.06-.94-2.06-.94L8.5 2.5l-.94 2.06-2.06.94zm10 10l.94 2.06.94-2.06 2.06-.94-2.06-.94-.94-2.06-.94 2.06-2.06.94z\"/><path d=\"M17.41 7.96l-1.37-1.37c-.4-.4-.92-.59-1.43-.59-.52 0-1.04.2-1.43.59L10.3 9.45l-7.72 7.72c-.78.78-.78 2.05 0 2.83L4 21.41c.39.39.9.59 1.41.59.51 0 1.02-.2 1.41-.59l7.78-7.78 2.81-2.81c.8-.78.8-2.07 0-2.86zM5.41 20L4 18.59l7.72-7.72 1.47 1.35L5.41 20z\"/>\n",
              "  </svg>\n",
              "      </button>\n",
              "      \n",
              "  <style>\n",
              "    .colab-df-container {\n",
              "      display:flex;\n",
              "      flex-wrap:wrap;\n",
              "      gap: 12px;\n",
              "    }\n",
              "\n",
              "    .colab-df-convert {\n",
              "      background-color: #E8F0FE;\n",
              "      border: none;\n",
              "      border-radius: 50%;\n",
              "      cursor: pointer;\n",
              "      display: none;\n",
              "      fill: #1967D2;\n",
              "      height: 32px;\n",
              "      padding: 0 0 0 0;\n",
              "      width: 32px;\n",
              "    }\n",
              "\n",
              "    .colab-df-convert:hover {\n",
              "      background-color: #E2EBFA;\n",
              "      box-shadow: 0px 1px 2px rgba(60, 64, 67, 0.3), 0px 1px 3px 1px rgba(60, 64, 67, 0.15);\n",
              "      fill: #174EA6;\n",
              "    }\n",
              "\n",
              "    [theme=dark] .colab-df-convert {\n",
              "      background-color: #3B4455;\n",
              "      fill: #D2E3FC;\n",
              "    }\n",
              "\n",
              "    [theme=dark] .colab-df-convert:hover {\n",
              "      background-color: #434B5C;\n",
              "      box-shadow: 0px 1px 3px 1px rgba(0, 0, 0, 0.15);\n",
              "      filter: drop-shadow(0px 1px 2px rgba(0, 0, 0, 0.3));\n",
              "      fill: #FFFFFF;\n",
              "    }\n",
              "  </style>\n",
              "\n",
              "      <script>\n",
              "        const buttonEl =\n",
              "          document.querySelector('#df-fee9758a-594e-45b3-8d84-8657ae6b4d31 button.colab-df-convert');\n",
              "        buttonEl.style.display =\n",
              "          google.colab.kernel.accessAllowed ? 'block' : 'none';\n",
              "\n",
              "        async function convertToInteractive(key) {\n",
              "          const element = document.querySelector('#df-fee9758a-594e-45b3-8d84-8657ae6b4d31');\n",
              "          const dataTable =\n",
              "            await google.colab.kernel.invokeFunction('convertToInteractive',\n",
              "                                                     [key], {});\n",
              "          if (!dataTable) return;\n",
              "\n",
              "          const docLinkHtml = 'Like what you see? Visit the ' +\n",
              "            '<a target=\"_blank\" href=https://colab.research.google.com/notebooks/data_table.ipynb>data table notebook</a>'\n",
              "            + ' to learn more about interactive tables.';\n",
              "          element.innerHTML = '';\n",
              "          dataTable['output_type'] = 'display_data';\n",
              "          await google.colab.output.renderOutput(dataTable, element);\n",
              "          const docLink = document.createElement('div');\n",
              "          docLink.innerHTML = docLinkHtml;\n",
              "          element.appendChild(docLink);\n",
              "        }\n",
              "      </script>\n",
              "    </div>\n",
              "  </div>\n",
              "  "
            ],
            "text/plain": [
              "          actual  Train RBFNN  Train FuzzyRBFNN\n",
              "Date                                           \n",
              "2016-Jan  129.89   119.080948        119.975215\n",
              "2016-Feb  132.06   121.458796        121.856758\n",
              "2016-Mar  133.66   121.455606        122.850899\n",
              "2016-Apr  134.82   128.019396        129.162103\n",
              "2016-Mei  135.37   159.935995        159.039799\n",
              "2016-Jun  133.94   170.197164        168.456420\n",
              "2016-Jul  133.46   180.920909        178.059624\n",
              "2016-Aug  133.56   187.676329        184.466034\n",
              "2016-Sep  134.80   180.960433        178.484869\n",
              "2016-Okt  137.25   173.138691        171.435494\n",
              "2016-Nov  137.74   155.069562        154.242902\n",
              "2016-Dec  137.38   143.659400        143.032385\n",
              "2017-Jan  137.77   143.578040        143.182583\n",
              "2017-Feb  138.18   142.443995        142.210680\n",
              "2017-Mar  139.95   137.837074        137.810067\n",
              "2017-Apr  139.61   124.697045        125.277863\n",
              "2017-Mei  139.80   118.245294        119.214947\n",
              "2017-Jun  140.14   119.954733        121.204523\n",
              "2017-Jul  139.66   119.449982        120.628830\n",
              "2017-Aug  139.31   118.490116        119.811055\n",
              "2017-Sep  140.00   119.692218        121.018781\n",
              "2017-Okt  140.40   120.676875        121.805550\n",
              "2017-Nov  140.77   118.725198        119.839089\n",
              "2017-Dec  141.67   119.674922        120.835143\n",
              "2018-Jan  141.89   123.316793        124.183172\n",
              "2018-Feb  142.40   126.889516        127.640131\n",
              "2018-Mar  144.45   133.979244        134.468417\n",
              "2018-Apr  144.45   150.163547        149.158704\n",
              "2018-Mei  144.15   158.840576        157.810858\n",
              "2018-Jun  143.76   160.441891        160.122964\n",
              "2018-Jul  143.34   157.148965        157.048319\n",
              "2018-Aug  143.74   153.012983        153.093628\n",
              "2018-Sep  145.58   154.820678        154.532575\n",
              "2018-Okt  146.38   166.870786        165.227330\n",
              "2018-Nov  147.15   171.079003        169.442595\n",
              "2018-Dec  146.87   162.393563        161.886028\n",
              "2019-Jan  147.18   151.539226        152.143184\n",
              "2019-Feb  148.00   145.338736        146.332008\n",
              "2019-Mar  148.97   142.919696        143.819290\n",
              "2019-Apr  148.82   125.746237        127.551165\n",
              "2019-Mei  148.30   104.976103        108.332189\n",
              "2019-Jun  148.71    96.431747        100.488840\n",
              "2019-Jul  148.93   101.860129        105.413924\n",
              "2019-Aug  148.83   103.086165        106.524347\n",
              "2019-Sep  149.42    95.268786         99.249596\n",
              "2019-Okt  104.75    88.642429         92.814261\n",
              "2019-Nov  105.41   105.408750        105.408824\n",
              "2019-Dec  105.27   105.270295        105.270300\n",
              "2020-Jan  105.19   105.467176        105.574147\n",
              "2020-Feb  105.69   105.660895        105.713723\n",
              "2020-Mar  106.04   105.695577        105.746911\n",
              "2020-Apr  105.65   105.599367        105.643068\n",
              "2020-Mei  105.49   105.560631        105.568524\n",
              "2020-Jun  105.50   105.500377        105.485838"
            ]
          },
          "metadata": {},
          "execution_count": 62
        }
      ]
    },
    {
      "cell_type": "code",
      "source": [
        "pylab.rcParams['figure.figsize'] = (25, 8)\n",
        "hasil_train.plot(kind='line', title='HASIL TRAINING IHK UMUM')"
      ],
      "metadata": {
        "colab": {
          "base_uri": "https://localhost:8080/",
          "height": 530
        },
        "id": "JQqNg5YIXchN",
        "outputId": "bfe5f15c-6881-4435-976d-2f386ef9f1e1"
      },
      "execution_count": null,
      "outputs": [
        {
          "output_type": "execute_result",
          "data": {
            "text/plain": [
              "<matplotlib.axes._subplots.AxesSubplot at 0x7f48bd286450>"
            ]
          },
          "metadata": {},
          "execution_count": 58
        },
        {
          "output_type": "display_data",
          "data": {
            "image/png": "[encoded data removed]",
            "text/plain": [
              "<Figure size 1800x576 with 1 Axes>"
            ]
          },
          "metadata": {
            "needs_background": "light"
          }
        }
      ]
    },
    {
      "cell_type": "markdown",
      "source": [
        "#Testing"
      ],
      "metadata": {
        "id": "Pq8fsZzyrEOt"
      }
    },
    {
      "cell_type": "code",
      "source": [
        "# forecast Menggunakan data test\n",
        "test_rbfnn = rbfnn.predict(X_test)\n",
        "test_frbfnn = frbfnn.predict(X_test)\n",
        "\n",
        "#Evaluasi Training Model RBFNN\n",
        "print('----Evaluasi Training Model RBFNN----')\n",
        "mse = mean_squared_error(y_test,test_rbfnn)/100\n",
        "print('MSE =', \"{:.3f}\".format(mse))\n",
        "# MAPE\n",
        "mape = np.mean(np.abs((y_test - test_rbfnn) / y_test))*100\n",
        "print('MAPE =', \"{:.2f}%\".format(mape))\n",
        "\n",
        "\n",
        "#Evaluasi Training Model FRBFNN\n",
        "print('\\n\\n----Evaluasi Training Model FuzzyRBF----')\n",
        "# MSE\n",
        "mse = mean_squared_error(y_test,test_frbfnn)/100\n",
        "print('MSE =', \"{:.3f}\".format(mse))\n",
        "\n",
        "# MAPE\n",
        "mape = np.mean(np.abs((y_test - test_frbfnn) / y_test))*100\n",
        "print('MAPE =', \"{:.2f}%\".format(mape))\n"
      ],
      "metadata": {
        "colab": {
          "base_uri": "https://localhost:8080/"
        },
        "id": "xk56y6-3iTZD",
        "outputId": "050d3b9f-cadd-4ff6-e2a3-5d16f2735c94"
      },
      "execution_count": null,
      "outputs": [
        {
          "output_type": "stream",
          "name": "stdout",
          "text": [
            "----Evaluasi Training Model RBFNN----\n",
            "MSE = 0.105\n",
            "MAPE = 2.32%\n",
            "\n",
            "\n",
            "----Evaluasi Training Model FuzzyRBF----\n",
            "MSE = 0.110\n",
            "MAPE = 2.37%\n"
          ]
        }
      ]
    },
    {
      "cell_type": "code",
      "source": [
        "hasil_test = pd.DataFrame({'Date':df.index[train_idx:68],'actual':y_test, 'Test RBFNN':test_rbfnn,'Test FuzzyRBFNN':test_frbfnn})\n",
        "hasil_test.set_index('Date',inplace=True) \n",
        "hasil_test"
      ],
      "metadata": {
        "colab": {
          "base_uri": "https://localhost:8080/",
          "height": 520
        },
        "id": "--dVGr1PYhmo",
        "outputId": "8fd665f3-4416-433a-c0c7-ffca9072250e"
      },
      "execution_count": null,
      "outputs": [
        {
          "output_type": "execute_result",
          "data": {
            "text/html": [
              "\n",
              "  <div id=\"df-18ad908d-5aec-47e7-acb6-e5e41fdddd96\">\n",
              "    <div class=\"colab-df-container\">\n",
              "      <div>\n",
              "<style scoped>\n",
              "    .dataframe tbody tr th:only-of-type {\n",
              "        vertical-align: middle;\n",
              "    }\n",
              "\n",
              "    .dataframe tbody tr th {\n",
              "        vertical-align: top;\n",
              "    }\n",
              "\n",
              "    .dataframe thead th {\n",
              "        text-align: right;\n",
              "    }\n",
              "</style>\n",
              "<table border=\"1\" class=\"dataframe\">\n",
              "  <thead>\n",
              "    <tr style=\"text-align: right;\">\n",
              "      <th></th>\n",
              "      <th>actual</th>\n",
              "      <th>Test RBFNN</th>\n",
              "      <th>Test FuzzyRBFNN</th>\n",
              "    </tr>\n",
              "    <tr>\n",
              "      <th>Date</th>\n",
              "      <th></th>\n",
              "      <th></th>\n",
              "      <th></th>\n",
              "    </tr>\n",
              "  </thead>\n",
              "  <tbody>\n",
              "    <tr>\n",
              "      <th>2020-Jul</th>\n",
              "      <td>105.46</td>\n",
              "      <td>105.745703</td>\n",
              "      <td>105.766534</td>\n",
              "    </tr>\n",
              "    <tr>\n",
              "      <th>2020-Aug</th>\n",
              "      <td>105.87</td>\n",
              "      <td>105.781794</td>\n",
              "      <td>105.817748</td>\n",
              "    </tr>\n",
              "    <tr>\n",
              "      <th>2020-Sep</th>\n",
              "      <td>106.17</td>\n",
              "      <td>105.716944</td>\n",
              "      <td>105.740504</td>\n",
              "    </tr>\n",
              "    <tr>\n",
              "      <th>2020-Okt</th>\n",
              "      <td>106.16</td>\n",
              "      <td>105.467917</td>\n",
              "      <td>105.482568</td>\n",
              "    </tr>\n",
              "    <tr>\n",
              "      <th>2020-Nov</th>\n",
              "      <td>106.26</td>\n",
              "      <td>105.133435</td>\n",
              "      <td>105.109807</td>\n",
              "    </tr>\n",
              "    <tr>\n",
              "      <th>2020-Dec</th>\n",
              "      <td>106.21</td>\n",
              "      <td>104.805145</td>\n",
              "      <td>104.752779</td>\n",
              "    </tr>\n",
              "    <tr>\n",
              "      <th>2021-Jan</th>\n",
              "      <td>106.31</td>\n",
              "      <td>104.771845</td>\n",
              "      <td>104.720845</td>\n",
              "    </tr>\n",
              "    <tr>\n",
              "      <th>2021-Feb</th>\n",
              "      <td>106.21</td>\n",
              "      <td>104.616940</td>\n",
              "      <td>104.554983</td>\n",
              "    </tr>\n",
              "    <tr>\n",
              "      <th>2021-Mar</th>\n",
              "      <td>107.08</td>\n",
              "      <td>104.670445</td>\n",
              "      <td>104.614685</td>\n",
              "    </tr>\n",
              "    <tr>\n",
              "      <th>2021-Apr</th>\n",
              "      <td>106.83</td>\n",
              "      <td>103.414672</td>\n",
              "      <td>103.327674</td>\n",
              "    </tr>\n",
              "    <tr>\n",
              "      <th>2021-Mei</th>\n",
              "      <td>106.92</td>\n",
              "      <td>102.736769</td>\n",
              "      <td>102.657624</td>\n",
              "    </tr>\n",
              "    <tr>\n",
              "      <th>2021-Jun</th>\n",
              "      <td>107.27</td>\n",
              "      <td>101.637012</td>\n",
              "      <td>101.485410</td>\n",
              "    </tr>\n",
              "    <tr>\n",
              "      <th>2021-Jul</th>\n",
              "      <td>107.04</td>\n",
              "      <td>101.297424</td>\n",
              "      <td>101.156984</td>\n",
              "    </tr>\n",
              "    <tr>\n",
              "      <th>2021-Aug</th>\n",
              "      <td>107.06</td>\n",
              "      <td>100.904354</td>\n",
              "      <td>100.759820</td>\n",
              "    </tr>\n",
              "  </tbody>\n",
              "</table>\n",
              "</div>\n",
              "      <button class=\"colab-df-convert\" onclick=\"convertToInteractive('df-18ad908d-5aec-47e7-acb6-e5e41fdddd96')\"\n",
              "              title=\"Convert this dataframe to an interactive table.\"\n",
              "              style=\"display:none;\">\n",
              "        \n",
              "  <svg xmlns=\"http://www.w3.org/2000/svg\" height=\"24px\"viewBox=\"0 0 24 24\"\n",
              "       width=\"24px\">\n",
              "    <path d=\"M0 0h24v24H0V0z\" fill=\"none\"/>\n",
              "    <path d=\"M18.56 5.44l.94 2.06.94-2.06 2.06-.94-2.06-.94-.94-2.06-.94 2.06-2.06.94zm-11 1L8.5 8.5l.94-2.06 2.06-.94-2.06-.94L8.5 2.5l-.94 2.06-2.06.94zm10 10l.94 2.06.94-2.06 2.06-.94-2.06-.94-.94-2.06-.94 2.06-2.06.94z\"/><path d=\"M17.41 7.96l-1.37-1.37c-.4-.4-.92-.59-1.43-.59-.52 0-1.04.2-1.43.59L10.3 9.45l-7.72 7.72c-.78.78-.78 2.05 0 2.83L4 21.41c.39.39.9.59 1.41.59.51 0 1.02-.2 1.41-.59l7.78-7.78 2.81-2.81c.8-.78.8-2.07 0-2.86zM5.41 20L4 18.59l7.72-7.72 1.47 1.35L5.41 20z\"/>\n",
              "  </svg>\n",
              "      </button>\n",
              "      \n",
              "  <style>\n",
              "    .colab-df-container {\n",
              "      display:flex;\n",
              "      flex-wrap:wrap;\n",
              "      gap: 12px;\n",
              "    }\n",
              "\n",
              "    .colab-df-convert {\n",
              "      background-color: #E8F0FE;\n",
              "      border: none;\n",
              "      border-radius: 50%;\n",
              "      cursor: pointer;\n",
              "      display: none;\n",
              "      fill: #1967D2;\n",
              "      height: 32px;\n",
              "      padding: 0 0 0 0;\n",
              "      width: 32px;\n",
              "    }\n",
              "\n",
              "    .colab-df-convert:hover {\n",
              "      background-color: #E2EBFA;\n",
              "      box-shadow: 0px 1px 2px rgba(60, 64, 67, 0.3), 0px 1px 3px 1px rgba(60, 64, 67, 0.15);\n",
              "      fill: #174EA6;\n",
              "    }\n",
              "\n",
              "    [theme=dark] .colab-df-convert {\n",
              "      background-color: #3B4455;\n",
              "      fill: #D2E3FC;\n",
              "    }\n",
              "\n",
              "    [theme=dark] .colab-df-convert:hover {\n",
              "      background-color: #434B5C;\n",
              "      box-shadow: 0px 1px 3px 1px rgba(0, 0, 0, 0.15);\n",
              "      filter: drop-shadow(0px 1px 2px rgba(0, 0, 0, 0.3));\n",
              "      fill: #FFFFFF;\n",
              "    }\n",
              "  </style>\n",
              "\n",
              "      <script>\n",
              "        const buttonEl =\n",
              "          document.querySelector('#df-18ad908d-5aec-47e7-acb6-e5e41fdddd96 button.colab-df-convert');\n",
              "        buttonEl.style.display =\n",
              "          google.colab.kernel.accessAllowed ? 'block' : 'none';\n",
              "\n",
              "        async function convertToInteractive(key) {\n",
              "          const element = document.querySelector('#df-18ad908d-5aec-47e7-acb6-e5e41fdddd96');\n",
              "          const dataTable =\n",
              "            await google.colab.kernel.invokeFunction('convertToInteractive',\n",
              "                                                     [key], {});\n",
              "          if (!dataTable) return;\n",
              "\n",
              "          const docLinkHtml = 'Like what you see? Visit the ' +\n",
              "            '<a target=\"_blank\" href=https://colab.research.google.com/notebooks/data_table.ipynb>data table notebook</a>'\n",
              "            + ' to learn more about interactive tables.';\n",
              "          element.innerHTML = '';\n",
              "          dataTable['output_type'] = 'display_data';\n",
              "          await google.colab.output.renderOutput(dataTable, element);\n",
              "          const docLink = document.createElement('div');\n",
              "          docLink.innerHTML = docLinkHtml;\n",
              "          element.appendChild(docLink);\n",
              "        }\n",
              "      </script>\n",
              "    </div>\n",
              "  </div>\n",
              "  "
            ],
            "text/plain": [
              "          actual  Test RBFNN  Test FuzzyRBFNN\n",
              "Date                                         \n",
              "2020-Jul  105.46  105.745703       105.766534\n",
              "2020-Aug  105.87  105.781794       105.817748\n",
              "2020-Sep  106.17  105.716944       105.740504\n",
              "2020-Okt  106.16  105.467917       105.482568\n",
              "2020-Nov  106.26  105.133435       105.109807\n",
              "2020-Dec  106.21  104.805145       104.752779\n",
              "2021-Jan  106.31  104.771845       104.720845\n",
              "2021-Feb  106.21  104.616940       104.554983\n",
              "2021-Mar  107.08  104.670445       104.614685\n",
              "2021-Apr  106.83  103.414672       103.327674\n",
              "2021-Mei  106.92  102.736769       102.657624\n",
              "2021-Jun  107.27  101.637012       101.485410\n",
              "2021-Jul  107.04  101.297424       101.156984\n",
              "2021-Aug  107.06  100.904354       100.759820"
            ]
          },
          "metadata": {},
          "execution_count": 60
        }
      ]
    },
    {
      "cell_type": "code",
      "source": [
        "pylab.rcParams['figure.figsize'] = (25, 8)\n",
        "hasil_test.plot(kind='line')"
      ],
      "metadata": {
        "colab": {
          "base_uri": "https://localhost:8080/",
          "height": 514
        },
        "id": "7Iz6NFH8mFLU",
        "outputId": "6ad7d139-77d2-437e-aa53-64b0d4d03087"
      },
      "execution_count": null,
      "outputs": [
        {
          "output_type": "execute_result",
          "data": {
            "text/plain": [
              "<matplotlib.axes._subplots.AxesSubplot at 0x7f48bd0a2b50>"
            ]
          },
          "metadata": {},
          "execution_count": 61
        },
        {
          "output_type": "display_data",
          "data": {
            "image/png": "[encoded data removed]",
            "text/plain": [
              "<Figure size 1800x576 with 1 Axes>"
            ]
          },
          "metadata": {
            "needs_background": "light"
          }
        }
      ]
    },
    {
      "cell_type": "markdown",
      "metadata": {
        "id": "BveD7kxyJV93"
      },
      "source": [
        "## Best Model: \n",
        "### FRBF Network Lebih baik di training karena menghasilkan mse dan mape lebih kecil dari pada model RBFNN saja, dengan parameter seperti  0.1 Learning Rate , 2200 Epoch , and std_dev 0.2"
      ]
    }
  ],
  "metadata": {
    "kernelspec": {
      "display_name": "Python 3",
      "language": "python",
      "name": "python3"
    },
    "language_info": {
      "codemirror_mode": {
        "name": "ipython",
        "version": 3
      },
      "file_extension": ".py",
      "mimetype": "text/x-python",
      "name": "python",
      "nbconvert_exporter": "python",
      "pygments_lexer": "ipython3",
      "version": "3.7.4"
    },
    "colab": {
      "name": "FRBFNN.ipynb",
      "provenance": [],
      "collapsed_sections": []
    }
  },
  "nbformat": 4,
  "nbformat_minor": 0
}